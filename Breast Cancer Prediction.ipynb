{
  "cells": [
    {
      "cell_type": "code",
      "execution_count": null,
      "metadata": {
        "id": "OV8ODtxTnIIt"
      },
      "outputs": [],
      "source": [
        "#Breast Cancer detection using Pyhton and Machine Learning"
      ]
    },
    {
      "cell_type": "code",
      "execution_count": null,
      "metadata": {
        "id": "wOx38DaOnMFI"
      },
      "outputs": [],
      "source": [
        "#import libraries\n",
        "\n",
        "import numpy as np #linear algebra\n",
        "import pandas as pd # data processing, CSV file I/O\n",
        "import matplotlib.pyplot as plt #Helps in plotting graphs\n",
        "import seaborn as sns #For data visualization and exploratory data analysis"
      ]
    },
    {
      "cell_type": "code",
      "execution_count": null,
      "metadata": {
        "colab": {
          "base_uri": "https://localhost:8080/",
          "height": 422,
          "resources": {
            "http://localhost:8080/nbextensions/google.colab/files.js": {
              "data": "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",
              "ok": true,
              "headers": [
                [
                  "content-type",
                  "application/javascript"
                ]
              ],
              "status": 200,
              "status_text": ""
            }
          }
        },
        "id": "AUFS74J1nOCQ",
        "outputId": "ccda5f23-8258-40cb-8ce3-c22c83610761"
      },
      "outputs": [
        {
          "output_type": "display_data",
          "data": {
            "text/plain": [
              "<IPython.core.display.HTML object>"
            ],
            "text/html": [
              "\n",
              "     <input type=\"file\" id=\"files-fb3995cc-97d3-478a-9f03-8821254c1a6e\" name=\"files[]\" multiple disabled\n",
              "        style=\"border:none\" />\n",
              "     <output id=\"result-fb3995cc-97d3-478a-9f03-8821254c1a6e\">\n",
              "      Upload widget is only available when the cell has been executed in the\n",
              "      current browser session. Please rerun this cell to enable.\n",
              "      </output>\n",
              "      <script src=\"/nbextensions/google.colab/files.js\"></script> "
            ]
          },
          "metadata": {}
        },
        {
          "output_type": "stream",
          "name": "stdout",
          "text": [
            "Saving data.csv.csv to data.csv.csv\n"
          ]
        },
        {
          "output_type": "execute_result",
          "data": {
            "text/plain": [
              "        ID Diagnosis  Radius Mean  Texture Mean  Permiter Mean  Area Mean  \\\n",
              "0   842302         M       17.990         10.38         122.80     1001.0   \n",
              "1   842517         M       20.570         17.77         132.90     1326.0   \n",
              "2   843786         M       12.450         15.70          82.57      477.1   \n",
              "3  8510426         B       13.540         14.36          87.46      566.3   \n",
              "4  8510653         B       13.080         15.71          85.63      520.0   \n",
              "5  8510824         B        9.504         12.44          60.34      273.9   \n",
              "\n",
              "   Smoothness Mean  Compactness Mean  Concavity Mean  Concave Points Mean  \\\n",
              "0          0.11840           0.27760         0.30010              0.14710   \n",
              "1          0.08474           0.07864         0.08690              0.07017   \n",
              "2          0.12780           0.17000         0.15780              0.08089   \n",
              "3          0.09779           0.08129         0.06664              0.04781   \n",
              "4          0.10750           0.12700         0.04568              0.03110   \n",
              "5          0.10240           0.06492         0.02956              0.02076   \n",
              "\n",
              "   ...  Radius Worst  Texture Worst  Perimeter Worst  Area Worst  \\\n",
              "0  ...         25.38          17.33           184.60     0.11890   \n",
              "1  ...         24.99          23.41           158.80     0.08902   \n",
              "2  ...         15.47          23.75           103.40   741.60000   \n",
              "3  ...         15.11          19.26            99.70   711.20000   \n",
              "4  ...         14.50          20.49            96.09   630.50000   \n",
              "5  ...         10.23          15.66            65.13   314.90000   \n",
              "\n",
              "   Smoothnesss Worst  Compactness Worst  Concavity Worst  \\\n",
              "0          2019.0000             0.1622          0.66560   \n",
              "1          1956.0000             0.1238          0.18660   \n",
              "2             0.1791             0.5249          0.53550   \n",
              "3             0.1440             0.1773          0.23900   \n",
              "4             0.1312             0.2776          0.18900   \n",
              "5             0.1324             0.1148          0.08867   \n",
              "\n",
              "   Concave Points Worst  Symmetry Worst  Factal Dimension Worst  \n",
              "0               0.71190          0.2654                 0.46010  \n",
              "1               0.24160          0.1860                 0.27500  \n",
              "2               0.17410          0.3985                 0.12440  \n",
              "3               0.12880          0.2977                 0.07259  \n",
              "4               0.07283          0.3184                 0.08183  \n",
              "5               0.06227          0.2450                 0.07773  \n",
              "\n",
              "[6 rows x 32 columns]"
            ],
            "text/html": [
              "\n",
              "  <div id=\"df-33847129-f678-471a-8f1f-f0e35b8a8dcd\">\n",
              "    <div class=\"colab-df-container\">\n",
              "      <div>\n",
              "<style scoped>\n",
              "    .dataframe tbody tr th:only-of-type {\n",
              "        vertical-align: middle;\n",
              "    }\n",
              "\n",
              "    .dataframe tbody tr th {\n",
              "        vertical-align: top;\n",
              "    }\n",
              "\n",
              "    .dataframe thead th {\n",
              "        text-align: right;\n",
              "    }\n",
              "</style>\n",
              "<table border=\"1\" class=\"dataframe\">\n",
              "  <thead>\n",
              "    <tr style=\"text-align: right;\">\n",
              "      <th></th>\n",
              "      <th>ID</th>\n",
              "      <th>Diagnosis</th>\n",
              "      <th>Radius Mean</th>\n",
              "      <th>Texture Mean</th>\n",
              "      <th>Permiter Mean</th>\n",
              "      <th>Area Mean</th>\n",
              "      <th>Smoothness Mean</th>\n",
              "      <th>Compactness Mean</th>\n",
              "      <th>Concavity Mean</th>\n",
              "      <th>Concave Points Mean</th>\n",
              "      <th>...</th>\n",
              "      <th>Radius Worst</th>\n",
              "      <th>Texture Worst</th>\n",
              "      <th>Perimeter Worst</th>\n",
              "      <th>Area Worst</th>\n",
              "      <th>Smoothnesss Worst</th>\n",
              "      <th>Compactness Worst</th>\n",
              "      <th>Concavity Worst</th>\n",
              "      <th>Concave Points Worst</th>\n",
              "      <th>Symmetry Worst</th>\n",
              "      <th>Factal Dimension Worst</th>\n",
              "    </tr>\n",
              "  </thead>\n",
              "  <tbody>\n",
              "    <tr>\n",
              "      <th>0</th>\n",
              "      <td>842302</td>\n",
              "      <td>M</td>\n",
              "      <td>17.990</td>\n",
              "      <td>10.38</td>\n",
              "      <td>122.80</td>\n",
              "      <td>1001.0</td>\n",
              "      <td>0.11840</td>\n",
              "      <td>0.27760</td>\n",
              "      <td>0.30010</td>\n",
              "      <td>0.14710</td>\n",
              "      <td>...</td>\n",
              "      <td>25.38</td>\n",
              "      <td>17.33</td>\n",
              "      <td>184.60</td>\n",
              "      <td>0.11890</td>\n",
              "      <td>2019.0000</td>\n",
              "      <td>0.1622</td>\n",
              "      <td>0.66560</td>\n",
              "      <td>0.71190</td>\n",
              "      <td>0.2654</td>\n",
              "      <td>0.46010</td>\n",
              "    </tr>\n",
              "    <tr>\n",
              "      <th>1</th>\n",
              "      <td>842517</td>\n",
              "      <td>M</td>\n",
              "      <td>20.570</td>\n",
              "      <td>17.77</td>\n",
              "      <td>132.90</td>\n",
              "      <td>1326.0</td>\n",
              "      <td>0.08474</td>\n",
              "      <td>0.07864</td>\n",
              "      <td>0.08690</td>\n",
              "      <td>0.07017</td>\n",
              "      <td>...</td>\n",
              "      <td>24.99</td>\n",
              "      <td>23.41</td>\n",
              "      <td>158.80</td>\n",
              "      <td>0.08902</td>\n",
              "      <td>1956.0000</td>\n",
              "      <td>0.1238</td>\n",
              "      <td>0.18660</td>\n",
              "      <td>0.24160</td>\n",
              "      <td>0.1860</td>\n",
              "      <td>0.27500</td>\n",
              "    </tr>\n",
              "    <tr>\n",
              "      <th>2</th>\n",
              "      <td>843786</td>\n",
              "      <td>M</td>\n",
              "      <td>12.450</td>\n",
              "      <td>15.70</td>\n",
              "      <td>82.57</td>\n",
              "      <td>477.1</td>\n",
              "      <td>0.12780</td>\n",
              "      <td>0.17000</td>\n",
              "      <td>0.15780</td>\n",
              "      <td>0.08089</td>\n",
              "      <td>...</td>\n",
              "      <td>15.47</td>\n",
              "      <td>23.75</td>\n",
              "      <td>103.40</td>\n",
              "      <td>741.60000</td>\n",
              "      <td>0.1791</td>\n",
              "      <td>0.5249</td>\n",
              "      <td>0.53550</td>\n",
              "      <td>0.17410</td>\n",
              "      <td>0.3985</td>\n",
              "      <td>0.12440</td>\n",
              "    </tr>\n",
              "    <tr>\n",
              "      <th>3</th>\n",
              "      <td>8510426</td>\n",
              "      <td>B</td>\n",
              "      <td>13.540</td>\n",
              "      <td>14.36</td>\n",
              "      <td>87.46</td>\n",
              "      <td>566.3</td>\n",
              "      <td>0.09779</td>\n",
              "      <td>0.08129</td>\n",
              "      <td>0.06664</td>\n",
              "      <td>0.04781</td>\n",
              "      <td>...</td>\n",
              "      <td>15.11</td>\n",
              "      <td>19.26</td>\n",
              "      <td>99.70</td>\n",
              "      <td>711.20000</td>\n",
              "      <td>0.1440</td>\n",
              "      <td>0.1773</td>\n",
              "      <td>0.23900</td>\n",
              "      <td>0.12880</td>\n",
              "      <td>0.2977</td>\n",
              "      <td>0.07259</td>\n",
              "    </tr>\n",
              "    <tr>\n",
              "      <th>4</th>\n",
              "      <td>8510653</td>\n",
              "      <td>B</td>\n",
              "      <td>13.080</td>\n",
              "      <td>15.71</td>\n",
              "      <td>85.63</td>\n",
              "      <td>520.0</td>\n",
              "      <td>0.10750</td>\n",
              "      <td>0.12700</td>\n",
              "      <td>0.04568</td>\n",
              "      <td>0.03110</td>\n",
              "      <td>...</td>\n",
              "      <td>14.50</td>\n",
              "      <td>20.49</td>\n",
              "      <td>96.09</td>\n",
              "      <td>630.50000</td>\n",
              "      <td>0.1312</td>\n",
              "      <td>0.2776</td>\n",
              "      <td>0.18900</td>\n",
              "      <td>0.07283</td>\n",
              "      <td>0.3184</td>\n",
              "      <td>0.08183</td>\n",
              "    </tr>\n",
              "    <tr>\n",
              "      <th>5</th>\n",
              "      <td>8510824</td>\n",
              "      <td>B</td>\n",
              "      <td>9.504</td>\n",
              "      <td>12.44</td>\n",
              "      <td>60.34</td>\n",
              "      <td>273.9</td>\n",
              "      <td>0.10240</td>\n",
              "      <td>0.06492</td>\n",
              "      <td>0.02956</td>\n",
              "      <td>0.02076</td>\n",
              "      <td>...</td>\n",
              "      <td>10.23</td>\n",
              "      <td>15.66</td>\n",
              "      <td>65.13</td>\n",
              "      <td>314.90000</td>\n",
              "      <td>0.1324</td>\n",
              "      <td>0.1148</td>\n",
              "      <td>0.08867</td>\n",
              "      <td>0.06227</td>\n",
              "      <td>0.2450</td>\n",
              "      <td>0.07773</td>\n",
              "    </tr>\n",
              "  </tbody>\n",
              "</table>\n",
              "<p>6 rows × 32 columns</p>\n",
              "</div>\n",
              "      <button class=\"colab-df-convert\" onclick=\"convertToInteractive('df-33847129-f678-471a-8f1f-f0e35b8a8dcd')\"\n",
              "              title=\"Convert this dataframe to an interactive table.\"\n",
              "              style=\"display:none;\">\n",
              "        \n",
              "  <svg xmlns=\"http://www.w3.org/2000/svg\" height=\"24px\"viewBox=\"0 0 24 24\"\n",
              "       width=\"24px\">\n",
              "    <path d=\"M0 0h24v24H0V0z\" fill=\"none\"/>\n",
              "    <path d=\"M18.56 5.44l.94 2.06.94-2.06 2.06-.94-2.06-.94-.94-2.06-.94 2.06-2.06.94zm-11 1L8.5 8.5l.94-2.06 2.06-.94-2.06-.94L8.5 2.5l-.94 2.06-2.06.94zm10 10l.94 2.06.94-2.06 2.06-.94-2.06-.94-.94-2.06-.94 2.06-2.06.94z\"/><path d=\"M17.41 7.96l-1.37-1.37c-.4-.4-.92-.59-1.43-.59-.52 0-1.04.2-1.43.59L10.3 9.45l-7.72 7.72c-.78.78-.78 2.05 0 2.83L4 21.41c.39.39.9.59 1.41.59.51 0 1.02-.2 1.41-.59l7.78-7.78 2.81-2.81c.8-.78.8-2.07 0-2.86zM5.41 20L4 18.59l7.72-7.72 1.47 1.35L5.41 20z\"/>\n",
              "  </svg>\n",
              "      </button>\n",
              "      \n",
              "  <style>\n",
              "    .colab-df-container {\n",
              "      display:flex;\n",
              "      flex-wrap:wrap;\n",
              "      gap: 12px;\n",
              "    }\n",
              "\n",
              "    .colab-df-convert {\n",
              "      background-color: #E8F0FE;\n",
              "      border: none;\n",
              "      border-radius: 50%;\n",
              "      cursor: pointer;\n",
              "      display: none;\n",
              "      fill: #1967D2;\n",
              "      height: 32px;\n",
              "      padding: 0 0 0 0;\n",
              "      width: 32px;\n",
              "    }\n",
              "\n",
              "    .colab-df-convert:hover {\n",
              "      background-color: #E2EBFA;\n",
              "      box-shadow: 0px 1px 2px rgba(60, 64, 67, 0.3), 0px 1px 3px 1px rgba(60, 64, 67, 0.15);\n",
              "      fill: #174EA6;\n",
              "    }\n",
              "\n",
              "    [theme=dark] .colab-df-convert {\n",
              "      background-color: #3B4455;\n",
              "      fill: #D2E3FC;\n",
              "    }\n",
              "\n",
              "    [theme=dark] .colab-df-convert:hover {\n",
              "      background-color: #434B5C;\n",
              "      box-shadow: 0px 1px 3px 1px rgba(0, 0, 0, 0.15);\n",
              "      filter: drop-shadow(0px 1px 2px rgba(0, 0, 0, 0.3));\n",
              "      fill: #FFFFFF;\n",
              "    }\n",
              "  </style>\n",
              "\n",
              "      <script>\n",
              "        const buttonEl =\n",
              "          document.querySelector('#df-33847129-f678-471a-8f1f-f0e35b8a8dcd button.colab-df-convert');\n",
              "        buttonEl.style.display =\n",
              "          google.colab.kernel.accessAllowed ? 'block' : 'none';\n",
              "\n",
              "        async function convertToInteractive(key) {\n",
              "          const element = document.querySelector('#df-33847129-f678-471a-8f1f-f0e35b8a8dcd');\n",
              "          const dataTable =\n",
              "            await google.colab.kernel.invokeFunction('convertToInteractive',\n",
              "                                                     [key], {});\n",
              "          if (!dataTable) return;\n",
              "\n",
              "          const docLinkHtml = 'Like what you see? Visit the ' +\n",
              "            '<a target=\"_blank\" href=https://colab.research.google.com/notebooks/data_table.ipynb>data table notebook</a>'\n",
              "            + ' to learn more about interactive tables.';\n",
              "          element.innerHTML = '';\n",
              "          dataTable['output_type'] = 'display_data';\n",
              "          await google.colab.output.renderOutput(dataTable, element);\n",
              "          const docLink = document.createElement('div');\n",
              "          docLink.innerHTML = docLinkHtml;\n",
              "          element.appendChild(docLink);\n",
              "        }\n",
              "      </script>\n",
              "    </div>\n",
              "  </div>\n",
              "  "
            ]
          },
          "metadata": {},
          "execution_count": 3
        }
      ],
      "source": [
        "#Load the data\n",
        "from google.colab import files\n",
        "uploaded = files.upload()\n",
        "df = pd.read_csv('data.csv.csv')\n",
        "df.head(6)"
      ]
    },
    {
      "cell_type": "code",
      "execution_count": null,
      "metadata": {
        "colab": {
          "base_uri": "https://localhost:8080/"
        },
        "id": "PTfA6_ean5E5",
        "outputId": "8e706b70-b362-49a2-b397-83fe78e84fe6"
      },
      "outputs": [
        {
          "output_type": "execute_result",
          "data": {
            "text/plain": [
              "(6, 32)"
            ]
          },
          "metadata": {},
          "execution_count": 4
        }
      ],
      "source": [
        "#Count the number of rows and columns in the data set\n",
        "df.shape"
      ]
    },
    {
      "cell_type": "code",
      "execution_count": null,
      "metadata": {
        "colab": {
          "base_uri": "https://localhost:8080/"
        },
        "id": "Sjfw_o_HoGUm",
        "outputId": "72c47bc0-216a-49a6-ef2e-c6499ef60183"
      },
      "outputs": [
        {
          "output_type": "execute_result",
          "data": {
            "text/plain": [
              "ID                        0\n",
              "Diagnosis                 0\n",
              "Radius Mean               0\n",
              "Texture Mean              0\n",
              "Permiter Mean             0\n",
              "Area Mean                 0\n",
              "Smoothness Mean           0\n",
              "Compactness Mean          0\n",
              "Concavity Mean            0\n",
              "Concave Points Mean       0\n",
              "Symmetry Mean             0\n",
              "Fractal Dimension         0\n",
              "Radius Se                 0\n",
              "Texture Se                0\n",
              "Perimeter Se              0\n",
              "Area Se                   0\n",
              "Smoothness Se             0\n",
              "Compactness Se            0\n",
              "Concavity Se              0\n",
              "Concave Points Se         0\n",
              "Symmetry Se               0\n",
              "Factal Dimension Se       0\n",
              "Radius Worst              0\n",
              "Texture Worst             0\n",
              "Perimeter Worst           0\n",
              "Area Worst                0\n",
              "Smoothnesss Worst         0\n",
              "Compactness Worst         0\n",
              "Concavity Worst           0\n",
              "Concave Points Worst      0\n",
              "Symmetry Worst            0\n",
              "Factal Dimension Worst    0\n",
              "dtype: int64"
            ]
          },
          "metadata": {},
          "execution_count": 5
        }
      ],
      "source": [
        "#Count the number of empty(NaN, NaN, na) values in each column\n",
        "df.isna().sum() #isna function to detect missing values"
      ]
    },
    {
      "cell_type": "code",
      "execution_count": null,
      "metadata": {
        "id": "RrtwUUqVoarM"
      },
      "outputs": [],
      "source": [
        "#Drop the column with all missing values\n",
        "df = df.dropna(axis=1) #function is used to remove rows and columns with null/nan values"
      ]
    },
    {
      "cell_type": "code",
      "execution_count": null,
      "metadata": {
        "colab": {
          "base_uri": "https://localhost:8080/"
        },
        "id": "mffHsj4Ooy-a",
        "outputId": "e40a6986-e8a9-4ca7-a669-8cbddc2040cf"
      },
      "outputs": [
        {
          "output_type": "execute_result",
          "data": {
            "text/plain": [
              "(6, 32)"
            ]
          },
          "metadata": {},
          "execution_count": 7
        }
      ],
      "source": [
        "#Get new number of rows and cloumns\n",
        "df.shape "
      ]
    },
    {
      "cell_type": "code",
      "execution_count": null,
      "metadata": {
        "colab": {
          "base_uri": "https://localhost:8080/"
        },
        "id": "9otG1Zxmo6jY",
        "outputId": "f786188c-7344-4631-c3c7-8c0569532037"
      },
      "outputs": [
        {
          "output_type": "execute_result",
          "data": {
            "text/plain": [
              "M    3\n",
              "B    3\n",
              "Name: Diagnosis, dtype: int64"
            ]
          },
          "metadata": {},
          "execution_count": 11
        }
      ],
      "source": [
        "#Get a count of the number of Maligant (M) OR Benign (B) cells\n",
        "df['Diagnosis'].value_counts() #value_counts() function returns object containing counts of unique values"
      ]
    },
    {
      "cell_type": "code",
      "execution_count": null,
      "metadata": {
        "colab": {
          "base_uri": "https://localhost:8080/",
          "height": 351
        },
        "id": "Hkr1c3w6pfds",
        "outputId": "3f88f902-8882-4f91-dcf2-eae2ee22529f"
      },
      "outputs": [
        {
          "output_type": "stream",
          "name": "stderr",
          "text": [
            "/usr/local/lib/python3.7/dist-packages/seaborn/_decorators.py:43: FutureWarning: Pass the following variable as a keyword arg: x. From version 0.12, the only valid positional argument will be `data`, and passing other arguments without an explicit keyword will result in an error or misinterpretation.\n",
            "  FutureWarning\n"
          ]
        },
        {
          "output_type": "execute_result",
          "data": {
            "text/plain": [
              "<matplotlib.axes._subplots.AxesSubplot at 0x7f04792e5210>"
            ]
          },
          "metadata": {},
          "execution_count": 12
        },
        {
          "output_type": "display_data",
          "data": {
            "text/plain": [
              "<Figure size 432x288 with 1 Axes>"
            ],
            "image/png": "[encoded data removed]"
          },
          "metadata": {
            "needs_background": "light"
          }
        }
      ],
      "source": [
        "#Visualize the count\n",
        "sns.countplot(df['Diagnosis'],label='count')\n",
        "\n",
        "#Seaborn counts the number of observations per category for a categorical variable\n",
        "#Seaborn countplot() is a way to create a type of bar chart in Python"
      ]
    },
    {
      "cell_type": "code",
      "execution_count": null,
      "metadata": {
        "colab": {
          "base_uri": "https://localhost:8080/"
        },
        "id": "9KXCO8Khpx4p",
        "outputId": "3332e2f8-b704-4235-f3a8-4b3980d15cab"
      },
      "outputs": [
        {
          "output_type": "execute_result",
          "data": {
            "text/plain": [
              "ID                          int64\n",
              "Diagnosis                  object\n",
              "Radius Mean               float64\n",
              "Texture Mean              float64\n",
              "Permiter Mean             float64\n",
              "Area Mean                 float64\n",
              "Smoothness Mean           float64\n",
              "Compactness Mean          float64\n",
              "Concavity Mean            float64\n",
              "Concave Points Mean       float64\n",
              "Symmetry Mean             float64\n",
              "Fractal Dimension         float64\n",
              "Radius Se                 float64\n",
              "Texture Se                float64\n",
              "Perimeter Se              float64\n",
              "Area Se                   float64\n",
              "Smoothness Se             float64\n",
              "Compactness Se            float64\n",
              "Concavity Se              float64\n",
              "Concave Points Se         float64\n",
              "Symmetry Se               float64\n",
              "Factal Dimension Se       float64\n",
              "Radius Worst              float64\n",
              "Texture Worst             float64\n",
              "Perimeter Worst           float64\n",
              "Area Worst                float64\n",
              "Smoothnesss Worst         float64\n",
              "Compactness Worst         float64\n",
              "Concavity Worst           float64\n",
              "Concave Points Worst      float64\n",
              "Symmetry Worst            float64\n",
              "Factal Dimension Worst    float64\n",
              "dtype: object"
            ]
          },
          "metadata": {},
          "execution_count": 13
        }
      ],
      "source": [
        "#Look at the data types to see which columns need to be encoded\n",
        "df.dtypes"
      ]
    },
    {
      "cell_type": "code",
      "execution_count": null,
      "metadata": {
        "colab": {
          "base_uri": "https://localhost:8080/"
        },
        "id": "XJMbHloFqARv",
        "outputId": "1f70e689-31bb-4335-95b1-105cabb39869"
      },
      "outputs": [
        {
          "output_type": "execute_result",
          "data": {
            "text/plain": [
              "array(['M', 'M', 'M', 'B', 'B', 'B'], dtype=object)"
            ]
          },
          "metadata": {},
          "execution_count": 14
        }
      ],
      "source": [
        "#Encode the categorical data values\n",
        "from sklearn.preprocessing import LabelEncoder \n",
        "\n",
        "#skylearn.preprocessing provides several common utility functions and transformer classes to change raw feature vectors into a representation\n",
        "#labelencoder is used to normalize labels (It is also transform non-numerical values to numerical values)\n",
        "\n",
        "labelencoder_Y = LabelEncoder()\n",
        "labelencoder_Y.fit_transform(df.iloc[:,1].values)\n",
        "\n",
        "#fit_transform() ->  It is used on the training data so that we can scale the training data and also learn the scaling parameters.\n",
        "#iloc ->  function enables us to select a particular cell of the dataset\n",
        "#( that is, it helps us select a value that belongs to a particular row or column from a set of values of a data frame or dataset.)\n",
        "#values() -> returns a list of all the values available in a given dictionary.\n",
        "\n",
        "df.iloc[:,1].values"
      ]
    },
    {
      "cell_type": "code",
      "execution_count": null,
      "metadata": {
        "colab": {
          "base_uri": "https://localhost:8080/"
        },
        "id": "rCd9my_KrBh7",
        "outputId": "b6493545-37eb-486a-b86e-63943c4e9a91"
      },
      "outputs": [
        {
          "output_type": "execute_result",
          "data": {
            "text/plain": [
              "0    1\n",
              "1    1\n",
              "2    1\n",
              "3    0\n",
              "4    0\n",
              "5    0\n",
              "Name: Diagnosis, dtype: int64"
            ]
          },
          "metadata": {},
          "execution_count": 15
        }
      ],
      "source": [
        "#Encode the categorical data values\n",
        "from sklearn.preprocessing import LabelEncoder\n",
        "labelencoder_Y = LabelEncoder()\n",
        "df.iloc[:,1] = labelencoder_Y.fit_transform(df.iloc[:,1].values)\n",
        "\n",
        "df.iloc[:,1]"
      ]
    },
    {
      "cell_type": "code",
      "execution_count": null,
      "metadata": {
        "colab": {
          "base_uri": "https://localhost:8080/",
          "height": 567
        },
        "id": "6HybISm7reTR",
        "outputId": "394f0ba3-1b67-4738-985f-740472e3fa49"
      },
      "outputs": [
        {
          "output_type": "execute_result",
          "data": {
            "text/plain": [
              "<seaborn.axisgrid.PairGrid at 0x7f04780960d0>"
            ]
          },
          "metadata": {},
          "execution_count": 17
        },
        {
          "output_type": "display_data",
          "data": {
            "text/plain": [
              "<Figure size 596.875x540 with 12 Axes>"
            ],
            "image/png": "[encoded data removed]"
          },
          "metadata": {
            "needs_background": "light"
          }
        }
      ],
      "source": [
        "#Create a pair plot\n",
        "sns.pairplot(df.iloc[:,1:5], hue='Diagnosis')\n",
        "\n",
        "#hue -> This parameter take column name for colour encoding"
      ]
    },
    {
      "cell_type": "code",
      "execution_count": null,
      "metadata": {
        "colab": {
          "base_uri": "https://localhost:8080/",
          "height": 366
        },
        "id": "IhsB-TTyvFbU",
        "outputId": "efb83b39-7931-4ab1-e76c-6f2e59764d8a"
      },
      "outputs": [
        {
          "output_type": "execute_result",
          "data": {
            "text/plain": [
              "        ID  Diagnosis  Radius Mean  Texture Mean  Permiter Mean  Area Mean  \\\n",
              "0   842302          1       17.990         10.38         122.80     1001.0   \n",
              "1   842517          1       20.570         17.77         132.90     1326.0   \n",
              "2   843786          1       12.450         15.70          82.57      477.1   \n",
              "3  8510426          0       13.540         14.36          87.46      566.3   \n",
              "4  8510653          0       13.080         15.71          85.63      520.0   \n",
              "5  8510824          0        9.504         12.44          60.34      273.9   \n",
              "\n",
              "   Smoothness Mean  Compactness Mean  Concavity Mean  Concave Points Mean  \\\n",
              "0          0.11840           0.27760         0.30010              0.14710   \n",
              "1          0.08474           0.07864         0.08690              0.07017   \n",
              "2          0.12780           0.17000         0.15780              0.08089   \n",
              "3          0.09779           0.08129         0.06664              0.04781   \n",
              "4          0.10750           0.12700         0.04568              0.03110   \n",
              "5          0.10240           0.06492         0.02956              0.02076   \n",
              "\n",
              "   ...  Radius Worst  Texture Worst  Perimeter Worst  Area Worst  \\\n",
              "0  ...         25.38          17.33           184.60     0.11890   \n",
              "1  ...         24.99          23.41           158.80     0.08902   \n",
              "2  ...         15.47          23.75           103.40   741.60000   \n",
              "3  ...         15.11          19.26            99.70   711.20000   \n",
              "4  ...         14.50          20.49            96.09   630.50000   \n",
              "5  ...         10.23          15.66            65.13   314.90000   \n",
              "\n",
              "   Smoothnesss Worst  Compactness Worst  Concavity Worst  \\\n",
              "0          2019.0000             0.1622          0.66560   \n",
              "1          1956.0000             0.1238          0.18660   \n",
              "2             0.1791             0.5249          0.53550   \n",
              "3             0.1440             0.1773          0.23900   \n",
              "4             0.1312             0.2776          0.18900   \n",
              "5             0.1324             0.1148          0.08867   \n",
              "\n",
              "   Concave Points Worst  Symmetry Worst  Factal Dimension Worst  \n",
              "0               0.71190          0.2654                 0.46010  \n",
              "1               0.24160          0.1860                 0.27500  \n",
              "2               0.17410          0.3985                 0.12440  \n",
              "3               0.12880          0.2977                 0.07259  \n",
              "4               0.07283          0.3184                 0.08183  \n",
              "5               0.06227          0.2450                 0.07773  \n",
              "\n",
              "[6 rows x 32 columns]"
            ],
            "text/html": [
              "\n",
              "  <div id=\"df-d5403414-5230-4cc4-a757-79a04f169a72\">\n",
              "    <div class=\"colab-df-container\">\n",
              "      <div>\n",
              "<style scoped>\n",
              "    .dataframe tbody tr th:only-of-type {\n",
              "        vertical-align: middle;\n",
              "    }\n",
              "\n",
              "    .dataframe tbody tr th {\n",
              "        vertical-align: top;\n",
              "    }\n",
              "\n",
              "    .dataframe thead th {\n",
              "        text-align: right;\n",
              "    }\n",
              "</style>\n",
              "<table border=\"1\" class=\"dataframe\">\n",
              "  <thead>\n",
              "    <tr style=\"text-align: right;\">\n",
              "      <th></th>\n",
              "      <th>ID</th>\n",
              "      <th>Diagnosis</th>\n",
              "      <th>Radius Mean</th>\n",
              "      <th>Texture Mean</th>\n",
              "      <th>Permiter Mean</th>\n",
              "      <th>Area Mean</th>\n",
              "      <th>Smoothness Mean</th>\n",
              "      <th>Compactness Mean</th>\n",
              "      <th>Concavity Mean</th>\n",
              "      <th>Concave Points Mean</th>\n",
              "      <th>...</th>\n",
              "      <th>Radius Worst</th>\n",
              "      <th>Texture Worst</th>\n",
              "      <th>Perimeter Worst</th>\n",
              "      <th>Area Worst</th>\n",
              "      <th>Smoothnesss Worst</th>\n",
              "      <th>Compactness Worst</th>\n",
              "      <th>Concavity Worst</th>\n",
              "      <th>Concave Points Worst</th>\n",
              "      <th>Symmetry Worst</th>\n",
              "      <th>Factal Dimension Worst</th>\n",
              "    </tr>\n",
              "  </thead>\n",
              "  <tbody>\n",
              "    <tr>\n",
              "      <th>0</th>\n",
              "      <td>842302</td>\n",
              "      <td>1</td>\n",
              "      <td>17.990</td>\n",
              "      <td>10.38</td>\n",
              "      <td>122.80</td>\n",
              "      <td>1001.0</td>\n",
              "      <td>0.11840</td>\n",
              "      <td>0.27760</td>\n",
              "      <td>0.30010</td>\n",
              "      <td>0.14710</td>\n",
              "      <td>...</td>\n",
              "      <td>25.38</td>\n",
              "      <td>17.33</td>\n",
              "      <td>184.60</td>\n",
              "      <td>0.11890</td>\n",
              "      <td>2019.0000</td>\n",
              "      <td>0.1622</td>\n",
              "      <td>0.66560</td>\n",
              "      <td>0.71190</td>\n",
              "      <td>0.2654</td>\n",
              "      <td>0.46010</td>\n",
              "    </tr>\n",
              "    <tr>\n",
              "      <th>1</th>\n",
              "      <td>842517</td>\n",
              "      <td>1</td>\n",
              "      <td>20.570</td>\n",
              "      <td>17.77</td>\n",
              "      <td>132.90</td>\n",
              "      <td>1326.0</td>\n",
              "      <td>0.08474</td>\n",
              "      <td>0.07864</td>\n",
              "      <td>0.08690</td>\n",
              "      <td>0.07017</td>\n",
              "      <td>...</td>\n",
              "      <td>24.99</td>\n",
              "      <td>23.41</td>\n",
              "      <td>158.80</td>\n",
              "      <td>0.08902</td>\n",
              "      <td>1956.0000</td>\n",
              "      <td>0.1238</td>\n",
              "      <td>0.18660</td>\n",
              "      <td>0.24160</td>\n",
              "      <td>0.1860</td>\n",
              "      <td>0.27500</td>\n",
              "    </tr>\n",
              "    <tr>\n",
              "      <th>2</th>\n",
              "      <td>843786</td>\n",
              "      <td>1</td>\n",
              "      <td>12.450</td>\n",
              "      <td>15.70</td>\n",
              "      <td>82.57</td>\n",
              "      <td>477.1</td>\n",
              "      <td>0.12780</td>\n",
              "      <td>0.17000</td>\n",
              "      <td>0.15780</td>\n",
              "      <td>0.08089</td>\n",
              "      <td>...</td>\n",
              "      <td>15.47</td>\n",
              "      <td>23.75</td>\n",
              "      <td>103.40</td>\n",
              "      <td>741.60000</td>\n",
              "      <td>0.1791</td>\n",
              "      <td>0.5249</td>\n",
              "      <td>0.53550</td>\n",
              "      <td>0.17410</td>\n",
              "      <td>0.3985</td>\n",
              "      <td>0.12440</td>\n",
              "    </tr>\n",
              "    <tr>\n",
              "      <th>3</th>\n",
              "      <td>8510426</td>\n",
              "      <td>0</td>\n",
              "      <td>13.540</td>\n",
              "      <td>14.36</td>\n",
              "      <td>87.46</td>\n",
              "      <td>566.3</td>\n",
              "      <td>0.09779</td>\n",
              "      <td>0.08129</td>\n",
              "      <td>0.06664</td>\n",
              "      <td>0.04781</td>\n",
              "      <td>...</td>\n",
              "      <td>15.11</td>\n",
              "      <td>19.26</td>\n",
              "      <td>99.70</td>\n",
              "      <td>711.20000</td>\n",
              "      <td>0.1440</td>\n",
              "      <td>0.1773</td>\n",
              "      <td>0.23900</td>\n",
              "      <td>0.12880</td>\n",
              "      <td>0.2977</td>\n",
              "      <td>0.07259</td>\n",
              "    </tr>\n",
              "    <tr>\n",
              "      <th>4</th>\n",
              "      <td>8510653</td>\n",
              "      <td>0</td>\n",
              "      <td>13.080</td>\n",
              "      <td>15.71</td>\n",
              "      <td>85.63</td>\n",
              "      <td>520.0</td>\n",
              "      <td>0.10750</td>\n",
              "      <td>0.12700</td>\n",
              "      <td>0.04568</td>\n",
              "      <td>0.03110</td>\n",
              "      <td>...</td>\n",
              "      <td>14.50</td>\n",
              "      <td>20.49</td>\n",
              "      <td>96.09</td>\n",
              "      <td>630.50000</td>\n",
              "      <td>0.1312</td>\n",
              "      <td>0.2776</td>\n",
              "      <td>0.18900</td>\n",
              "      <td>0.07283</td>\n",
              "      <td>0.3184</td>\n",
              "      <td>0.08183</td>\n",
              "    </tr>\n",
              "    <tr>\n",
              "      <th>5</th>\n",
              "      <td>8510824</td>\n",
              "      <td>0</td>\n",
              "      <td>9.504</td>\n",
              "      <td>12.44</td>\n",
              "      <td>60.34</td>\n",
              "      <td>273.9</td>\n",
              "      <td>0.10240</td>\n",
              "      <td>0.06492</td>\n",
              "      <td>0.02956</td>\n",
              "      <td>0.02076</td>\n",
              "      <td>...</td>\n",
              "      <td>10.23</td>\n",
              "      <td>15.66</td>\n",
              "      <td>65.13</td>\n",
              "      <td>314.90000</td>\n",
              "      <td>0.1324</td>\n",
              "      <td>0.1148</td>\n",
              "      <td>0.08867</td>\n",
              "      <td>0.06227</td>\n",
              "      <td>0.2450</td>\n",
              "      <td>0.07773</td>\n",
              "    </tr>\n",
              "  </tbody>\n",
              "</table>\n",
              "<p>6 rows × 32 columns</p>\n",
              "</div>\n",
              "      <button class=\"colab-df-convert\" onclick=\"convertToInteractive('df-d5403414-5230-4cc4-a757-79a04f169a72')\"\n",
              "              title=\"Convert this dataframe to an interactive table.\"\n",
              "              style=\"display:none;\">\n",
              "        \n",
              "  <svg xmlns=\"http://www.w3.org/2000/svg\" height=\"24px\"viewBox=\"0 0 24 24\"\n",
              "       width=\"24px\">\n",
              "    <path d=\"M0 0h24v24H0V0z\" fill=\"none\"/>\n",
              "    <path d=\"M18.56 5.44l.94 2.06.94-2.06 2.06-.94-2.06-.94-.94-2.06-.94 2.06-2.06.94zm-11 1L8.5 8.5l.94-2.06 2.06-.94-2.06-.94L8.5 2.5l-.94 2.06-2.06.94zm10 10l.94 2.06.94-2.06 2.06-.94-2.06-.94-.94-2.06-.94 2.06-2.06.94z\"/><path d=\"M17.41 7.96l-1.37-1.37c-.4-.4-.92-.59-1.43-.59-.52 0-1.04.2-1.43.59L10.3 9.45l-7.72 7.72c-.78.78-.78 2.05 0 2.83L4 21.41c.39.39.9.59 1.41.59.51 0 1.02-.2 1.41-.59l7.78-7.78 2.81-2.81c.8-.78.8-2.07 0-2.86zM5.41 20L4 18.59l7.72-7.72 1.47 1.35L5.41 20z\"/>\n",
              "  </svg>\n",
              "      </button>\n",
              "      \n",
              "  <style>\n",
              "    .colab-df-container {\n",
              "      display:flex;\n",
              "      flex-wrap:wrap;\n",
              "      gap: 12px;\n",
              "    }\n",
              "\n",
              "    .colab-df-convert {\n",
              "      background-color: #E8F0FE;\n",
              "      border: none;\n",
              "      border-radius: 50%;\n",
              "      cursor: pointer;\n",
              "      display: none;\n",
              "      fill: #1967D2;\n",
              "      height: 32px;\n",
              "      padding: 0 0 0 0;\n",
              "      width: 32px;\n",
              "    }\n",
              "\n",
              "    .colab-df-convert:hover {\n",
              "      background-color: #E2EBFA;\n",
              "      box-shadow: 0px 1px 2px rgba(60, 64, 67, 0.3), 0px 1px 3px 1px rgba(60, 64, 67, 0.15);\n",
              "      fill: #174EA6;\n",
              "    }\n",
              "\n",
              "    [theme=dark] .colab-df-convert {\n",
              "      background-color: #3B4455;\n",
              "      fill: #D2E3FC;\n",
              "    }\n",
              "\n",
              "    [theme=dark] .colab-df-convert:hover {\n",
              "      background-color: #434B5C;\n",
              "      box-shadow: 0px 1px 3px 1px rgba(0, 0, 0, 0.15);\n",
              "      filter: drop-shadow(0px 1px 2px rgba(0, 0, 0, 0.3));\n",
              "      fill: #FFFFFF;\n",
              "    }\n",
              "  </style>\n",
              "\n",
              "      <script>\n",
              "        const buttonEl =\n",
              "          document.querySelector('#df-d5403414-5230-4cc4-a757-79a04f169a72 button.colab-df-convert');\n",
              "        buttonEl.style.display =\n",
              "          google.colab.kernel.accessAllowed ? 'block' : 'none';\n",
              "\n",
              "        async function convertToInteractive(key) {\n",
              "          const element = document.querySelector('#df-d5403414-5230-4cc4-a757-79a04f169a72');\n",
              "          const dataTable =\n",
              "            await google.colab.kernel.invokeFunction('convertToInteractive',\n",
              "                                                     [key], {});\n",
              "          if (!dataTable) return;\n",
              "\n",
              "          const docLinkHtml = 'Like what you see? Visit the ' +\n",
              "            '<a target=\"_blank\" href=https://colab.research.google.com/notebooks/data_table.ipynb>data table notebook</a>'\n",
              "            + ' to learn more about interactive tables.';\n",
              "          element.innerHTML = '';\n",
              "          dataTable['output_type'] = 'display_data';\n",
              "          await google.colab.output.renderOutput(dataTable, element);\n",
              "          const docLink = document.createElement('div');\n",
              "          docLink.innerHTML = docLinkHtml;\n",
              "          element.appendChild(docLink);\n",
              "        }\n",
              "      </script>\n",
              "    </div>\n",
              "  </div>\n",
              "  "
            ]
          },
          "metadata": {},
          "execution_count": 18
        }
      ],
      "source": [
        "#Print the first 5 rows of the new data\n",
        "df.head(6)"
      ]
    },
    {
      "cell_type": "code",
      "execution_count": null,
      "metadata": {
        "colab": {
          "base_uri": "https://localhost:8080/",
          "height": 473
        },
        "id": "9S_a02PlvROg",
        "outputId": "8dcb6434-eb89-4f2c-c57d-587a30247803"
      },
      "outputs": [
        {
          "output_type": "execute_result",
          "data": {
            "text/plain": [
              "                     Diagnosis  Radius Mean  Texture Mean  Permiter Mean  \\\n",
              "Diagnosis             1.000000     0.674733      0.092779       0.702763   \n",
              "Radius Mean           0.674733     1.000000      0.220920       0.995766   \n",
              "Texture Mean          0.092779     0.220920      1.000000       0.155330   \n",
              "Permiter Mean         0.702763     0.995766      0.155330       1.000000   \n",
              "Area Mean             0.674490     0.993561      0.235646       0.983293   \n",
              "Smoothness Mean       0.278394    -0.347734     -0.416785      -0.269748   \n",
              "Compactness Mean      0.572317     0.305780     -0.553194       0.391633   \n",
              "Concavity Mean        0.726066     0.470219     -0.527463       0.545395   \n",
              "Concave Points Mean   0.794165     0.621126     -0.413742       0.685384   \n",
              "Symmetry Mean         0.514363     0.263152     -0.617400       0.350643   \n",
              "Fractal Dimension     0.333773    -0.236586     -0.599653      -0.154197   \n",
              "\n",
              "                     Area Mean  Smoothness Mean  Compactness Mean  \\\n",
              "Diagnosis             0.674490         0.278394          0.572317   \n",
              "Radius Mean           0.993561        -0.347734          0.305780   \n",
              "Texture Mean          0.235646        -0.416785         -0.553194   \n",
              "Permiter Mean         0.983293        -0.269748          0.391633   \n",
              "Area Mean             1.000000        -0.404681          0.242543   \n",
              "Smoothness Mean      -0.404681         1.000000          0.717490   \n",
              "Compactness Mean      0.242543         0.717490          1.000000   \n",
              "Concavity Mean        0.423820         0.573234          0.944238   \n",
              "Concave Points Mean   0.579812         0.431357          0.884024   \n",
              "Symmetry Mean         0.197299         0.718430          0.994737   \n",
              "Fractal Dimension    -0.267685         0.909355          0.794745   \n",
              "\n",
              "                     Concavity Mean  Concave Points Mean  Symmetry Mean  \\\n",
              "Diagnosis                  0.726066             0.794165       0.514363   \n",
              "Radius Mean                0.470219             0.621126       0.263152   \n",
              "Texture Mean              -0.527463            -0.413742      -0.617400   \n",
              "Permiter Mean              0.545395             0.685384       0.350643   \n",
              "Area Mean                  0.423820             0.579812       0.197299   \n",
              "Smoothness Mean            0.573234             0.431357       0.718430   \n",
              "Compactness Mean           0.944238             0.884024       0.994737   \n",
              "Concavity Mean             1.000000             0.981858       0.941499   \n",
              "Concave Points Mean        0.981858             1.000000       0.874593   \n",
              "Symmetry Mean              0.941499             0.874593       1.000000   \n",
              "Fractal Dimension          0.659598             0.518320       0.788014   \n",
              "\n",
              "                     Fractal Dimension  \n",
              "Diagnosis                     0.333773  \n",
              "Radius Mean                  -0.236586  \n",
              "Texture Mean                 -0.599653  \n",
              "Permiter Mean                -0.154197  \n",
              "Area Mean                    -0.267685  \n",
              "Smoothness Mean               0.909355  \n",
              "Compactness Mean              0.794745  \n",
              "Concavity Mean                0.659598  \n",
              "Concave Points Mean           0.518320  \n",
              "Symmetry Mean                 0.788014  \n",
              "Fractal Dimension             1.000000  "
            ],
            "text/html": [
              "\n",
              "  <div id=\"df-e5ee2909-b787-438f-892f-79bfe1e333d2\">\n",
              "    <div class=\"colab-df-container\">\n",
              "      <div>\n",
              "<style scoped>\n",
              "    .dataframe tbody tr th:only-of-type {\n",
              "        vertical-align: middle;\n",
              "    }\n",
              "\n",
              "    .dataframe tbody tr th {\n",
              "        vertical-align: top;\n",
              "    }\n",
              "\n",
              "    .dataframe thead th {\n",
              "        text-align: right;\n",
              "    }\n",
              "</style>\n",
              "<table border=\"1\" class=\"dataframe\">\n",
              "  <thead>\n",
              "    <tr style=\"text-align: right;\">\n",
              "      <th></th>\n",
              "      <th>Diagnosis</th>\n",
              "      <th>Radius Mean</th>\n",
              "      <th>Texture Mean</th>\n",
              "      <th>Permiter Mean</th>\n",
              "      <th>Area Mean</th>\n",
              "      <th>Smoothness Mean</th>\n",
              "      <th>Compactness Mean</th>\n",
              "      <th>Concavity Mean</th>\n",
              "      <th>Concave Points Mean</th>\n",
              "      <th>Symmetry Mean</th>\n",
              "      <th>Fractal Dimension</th>\n",
              "    </tr>\n",
              "  </thead>\n",
              "  <tbody>\n",
              "    <tr>\n",
              "      <th>Diagnosis</th>\n",
              "      <td>1.000000</td>\n",
              "      <td>0.674733</td>\n",
              "      <td>0.092779</td>\n",
              "      <td>0.702763</td>\n",
              "      <td>0.674490</td>\n",
              "      <td>0.278394</td>\n",
              "      <td>0.572317</td>\n",
              "      <td>0.726066</td>\n",
              "      <td>0.794165</td>\n",
              "      <td>0.514363</td>\n",
              "      <td>0.333773</td>\n",
              "    </tr>\n",
              "    <tr>\n",
              "      <th>Radius Mean</th>\n",
              "      <td>0.674733</td>\n",
              "      <td>1.000000</td>\n",
              "      <td>0.220920</td>\n",
              "      <td>0.995766</td>\n",
              "      <td>0.993561</td>\n",
              "      <td>-0.347734</td>\n",
              "      <td>0.305780</td>\n",
              "      <td>0.470219</td>\n",
              "      <td>0.621126</td>\n",
              "      <td>0.263152</td>\n",
              "      <td>-0.236586</td>\n",
              "    </tr>\n",
              "    <tr>\n",
              "      <th>Texture Mean</th>\n",
              "      <td>0.092779</td>\n",
              "      <td>0.220920</td>\n",
              "      <td>1.000000</td>\n",
              "      <td>0.155330</td>\n",
              "      <td>0.235646</td>\n",
              "      <td>-0.416785</td>\n",
              "      <td>-0.553194</td>\n",
              "      <td>-0.527463</td>\n",
              "      <td>-0.413742</td>\n",
              "      <td>-0.617400</td>\n",
              "      <td>-0.599653</td>\n",
              "    </tr>\n",
              "    <tr>\n",
              "      <th>Permiter Mean</th>\n",
              "      <td>0.702763</td>\n",
              "      <td>0.995766</td>\n",
              "      <td>0.155330</td>\n",
              "      <td>1.000000</td>\n",
              "      <td>0.983293</td>\n",
              "      <td>-0.269748</td>\n",
              "      <td>0.391633</td>\n",
              "      <td>0.545395</td>\n",
              "      <td>0.685384</td>\n",
              "      <td>0.350643</td>\n",
              "      <td>-0.154197</td>\n",
              "    </tr>\n",
              "    <tr>\n",
              "      <th>Area Mean</th>\n",
              "      <td>0.674490</td>\n",
              "      <td>0.993561</td>\n",
              "      <td>0.235646</td>\n",
              "      <td>0.983293</td>\n",
              "      <td>1.000000</td>\n",
              "      <td>-0.404681</td>\n",
              "      <td>0.242543</td>\n",
              "      <td>0.423820</td>\n",
              "      <td>0.579812</td>\n",
              "      <td>0.197299</td>\n",
              "      <td>-0.267685</td>\n",
              "    </tr>\n",
              "    <tr>\n",
              "      <th>Smoothness Mean</th>\n",
              "      <td>0.278394</td>\n",
              "      <td>-0.347734</td>\n",
              "      <td>-0.416785</td>\n",
              "      <td>-0.269748</td>\n",
              "      <td>-0.404681</td>\n",
              "      <td>1.000000</td>\n",
              "      <td>0.717490</td>\n",
              "      <td>0.573234</td>\n",
              "      <td>0.431357</td>\n",
              "      <td>0.718430</td>\n",
              "      <td>0.909355</td>\n",
              "    </tr>\n",
              "    <tr>\n",
              "      <th>Compactness Mean</th>\n",
              "      <td>0.572317</td>\n",
              "      <td>0.305780</td>\n",
              "      <td>-0.553194</td>\n",
              "      <td>0.391633</td>\n",
              "      <td>0.242543</td>\n",
              "      <td>0.717490</td>\n",
              "      <td>1.000000</td>\n",
              "      <td>0.944238</td>\n",
              "      <td>0.884024</td>\n",
              "      <td>0.994737</td>\n",
              "      <td>0.794745</td>\n",
              "    </tr>\n",
              "    <tr>\n",
              "      <th>Concavity Mean</th>\n",
              "      <td>0.726066</td>\n",
              "      <td>0.470219</td>\n",
              "      <td>-0.527463</td>\n",
              "      <td>0.545395</td>\n",
              "      <td>0.423820</td>\n",
              "      <td>0.573234</td>\n",
              "      <td>0.944238</td>\n",
              "      <td>1.000000</td>\n",
              "      <td>0.981858</td>\n",
              "      <td>0.941499</td>\n",
              "      <td>0.659598</td>\n",
              "    </tr>\n",
              "    <tr>\n",
              "      <th>Concave Points Mean</th>\n",
              "      <td>0.794165</td>\n",
              "      <td>0.621126</td>\n",
              "      <td>-0.413742</td>\n",
              "      <td>0.685384</td>\n",
              "      <td>0.579812</td>\n",
              "      <td>0.431357</td>\n",
              "      <td>0.884024</td>\n",
              "      <td>0.981858</td>\n",
              "      <td>1.000000</td>\n",
              "      <td>0.874593</td>\n",
              "      <td>0.518320</td>\n",
              "    </tr>\n",
              "    <tr>\n",
              "      <th>Symmetry Mean</th>\n",
              "      <td>0.514363</td>\n",
              "      <td>0.263152</td>\n",
              "      <td>-0.617400</td>\n",
              "      <td>0.350643</td>\n",
              "      <td>0.197299</td>\n",
              "      <td>0.718430</td>\n",
              "      <td>0.994737</td>\n",
              "      <td>0.941499</td>\n",
              "      <td>0.874593</td>\n",
              "      <td>1.000000</td>\n",
              "      <td>0.788014</td>\n",
              "    </tr>\n",
              "    <tr>\n",
              "      <th>Fractal Dimension</th>\n",
              "      <td>0.333773</td>\n",
              "      <td>-0.236586</td>\n",
              "      <td>-0.599653</td>\n",
              "      <td>-0.154197</td>\n",
              "      <td>-0.267685</td>\n",
              "      <td>0.909355</td>\n",
              "      <td>0.794745</td>\n",
              "      <td>0.659598</td>\n",
              "      <td>0.518320</td>\n",
              "      <td>0.788014</td>\n",
              "      <td>1.000000</td>\n",
              "    </tr>\n",
              "  </tbody>\n",
              "</table>\n",
              "</div>\n",
              "      <button class=\"colab-df-convert\" onclick=\"convertToInteractive('df-e5ee2909-b787-438f-892f-79bfe1e333d2')\"\n",
              "              title=\"Convert this dataframe to an interactive table.\"\n",
              "              style=\"display:none;\">\n",
              "        \n",
              "  <svg xmlns=\"http://www.w3.org/2000/svg\" height=\"24px\"viewBox=\"0 0 24 24\"\n",
              "       width=\"24px\">\n",
              "    <path d=\"M0 0h24v24H0V0z\" fill=\"none\"/>\n",
              "    <path d=\"M18.56 5.44l.94 2.06.94-2.06 2.06-.94-2.06-.94-.94-2.06-.94 2.06-2.06.94zm-11 1L8.5 8.5l.94-2.06 2.06-.94-2.06-.94L8.5 2.5l-.94 2.06-2.06.94zm10 10l.94 2.06.94-2.06 2.06-.94-2.06-.94-.94-2.06-.94 2.06-2.06.94z\"/><path d=\"M17.41 7.96l-1.37-1.37c-.4-.4-.92-.59-1.43-.59-.52 0-1.04.2-1.43.59L10.3 9.45l-7.72 7.72c-.78.78-.78 2.05 0 2.83L4 21.41c.39.39.9.59 1.41.59.51 0 1.02-.2 1.41-.59l7.78-7.78 2.81-2.81c.8-.78.8-2.07 0-2.86zM5.41 20L4 18.59l7.72-7.72 1.47 1.35L5.41 20z\"/>\n",
              "  </svg>\n",
              "      </button>\n",
              "      \n",
              "  <style>\n",
              "    .colab-df-container {\n",
              "      display:flex;\n",
              "      flex-wrap:wrap;\n",
              "      gap: 12px;\n",
              "    }\n",
              "\n",
              "    .colab-df-convert {\n",
              "      background-color: #E8F0FE;\n",
              "      border: none;\n",
              "      border-radius: 50%;\n",
              "      cursor: pointer;\n",
              "      display: none;\n",
              "      fill: #1967D2;\n",
              "      height: 32px;\n",
              "      padding: 0 0 0 0;\n",
              "      width: 32px;\n",
              "    }\n",
              "\n",
              "    .colab-df-convert:hover {\n",
              "      background-color: #E2EBFA;\n",
              "      box-shadow: 0px 1px 2px rgba(60, 64, 67, 0.3), 0px 1px 3px 1px rgba(60, 64, 67, 0.15);\n",
              "      fill: #174EA6;\n",
              "    }\n",
              "\n",
              "    [theme=dark] .colab-df-convert {\n",
              "      background-color: #3B4455;\n",
              "      fill: #D2E3FC;\n",
              "    }\n",
              "\n",
              "    [theme=dark] .colab-df-convert:hover {\n",
              "      background-color: #434B5C;\n",
              "      box-shadow: 0px 1px 3px 1px rgba(0, 0, 0, 0.15);\n",
              "      filter: drop-shadow(0px 1px 2px rgba(0, 0, 0, 0.3));\n",
              "      fill: #FFFFFF;\n",
              "    }\n",
              "  </style>\n",
              "\n",
              "      <script>\n",
              "        const buttonEl =\n",
              "          document.querySelector('#df-e5ee2909-b787-438f-892f-79bfe1e333d2 button.colab-df-convert');\n",
              "        buttonEl.style.display =\n",
              "          google.colab.kernel.accessAllowed ? 'block' : 'none';\n",
              "\n",
              "        async function convertToInteractive(key) {\n",
              "          const element = document.querySelector('#df-e5ee2909-b787-438f-892f-79bfe1e333d2');\n",
              "          const dataTable =\n",
              "            await google.colab.kernel.invokeFunction('convertToInteractive',\n",
              "                                                     [key], {});\n",
              "          if (!dataTable) return;\n",
              "\n",
              "          const docLinkHtml = 'Like what you see? Visit the ' +\n",
              "            '<a target=\"_blank\" href=https://colab.research.google.com/notebooks/data_table.ipynb>data table notebook</a>'\n",
              "            + ' to learn more about interactive tables.';\n",
              "          element.innerHTML = '';\n",
              "          dataTable['output_type'] = 'display_data';\n",
              "          await google.colab.output.renderOutput(dataTable, element);\n",
              "          const docLink = document.createElement('div');\n",
              "          docLink.innerHTML = docLinkHtml;\n",
              "          element.appendChild(docLink);\n",
              "        }\n",
              "      </script>\n",
              "    </div>\n",
              "  </div>\n",
              "  "
            ]
          },
          "metadata": {},
          "execution_count": 19
        }
      ],
      "source": [
        "#Get the corelations of the columns\n",
        "df.iloc[:,1:12].corr()\n",
        "\n",
        "#correlations -> Correlation is a statistical measure that expresses the extent to which two variables are linearly related (meaning they change together at a constant rate)."
      ]
    },
    {
      "cell_type": "code",
      "execution_count": null,
      "metadata": {
        "colab": {
          "base_uri": "https://localhost:8080/",
          "height": 709
        },
        "id": "nbYMvrFmvqdZ",
        "outputId": "31482216-83b8-4cb1-809f-080a9e0f77be"
      },
      "outputs": [
        {
          "output_type": "execute_result",
          "data": {
            "text/plain": [
              "<matplotlib.axes._subplots.AxesSubplot at 0x7f04781d88d0>"
            ]
          },
          "metadata": {},
          "execution_count": 20
        },
        {
          "output_type": "display_data",
          "data": {
            "text/plain": [
              "<Figure size 720x720 with 2 Axes>"
            ],
            "image/png": "[encoded data removed]"
          },
          "metadata": {
            "needs_background": "light"
          }
        }
      ],
      "source": [
        "#Visualize the correlation\n",
        "plt.figure(figsize=(10,10))\n",
        "sns.heatmap(df.iloc[:,1:12].corr(),annot=True, fmt='.0%')\n",
        "\n",
        "# Heatmap -> a graphical representation of data using colors to visualize the value of the matrix."
      ]
    },
    {
      "cell_type": "code",
      "execution_count": null,
      "metadata": {
        "id": "EO6O68Bpwz_I"
      },
      "outputs": [],
      "source": [
        "#Split the data set into independent (x) and dependent (Y) data sets\n",
        "X = df.iloc[:,2:31].values\n",
        "Y = df.iloc[:,1].values"
      ]
    },
    {
      "cell_type": "code",
      "execution_count": null,
      "metadata": {
        "id": "eyB26qKcxTvQ"
      },
      "outputs": [],
      "source": [
        "#Split the data set into set into 75% training and 25% testing\n",
        "from sklearn.model_selection import train_test_split\n",
        "X_train, X_test, Y_train, Y_test = train_test_split(X, Y, test_size = 0.25, random_state = 0)\n",
        "\n",
        "#import train_test_split -> train_test_split is a function in Sklearn model selection for splitting data arrays into two subsets: for training data and for testing data. \n",
        "# By default, Sklearn train_test_split will make random partitions for the two subsets."
      ]
    },
    {
      "cell_type": "code",
      "execution_count": null,
      "metadata": {
        "colab": {
          "base_uri": "https://localhost:8080/"
        },
        "id": "z_bY4l60ya5W",
        "outputId": "9f977f24-e7b2-4c00-de01-a652a2650dc7"
      },
      "outputs": [
        {
          "output_type": "execute_result",
          "data": {
            "text/plain": [
              "array([[ 1.36778292,  1.19117178,  1.22574265,  1.42724875, -1.40088335,\n",
              "        -0.77055073, -0.3710032 , -0.08727944, -0.88312235, -0.96260874,\n",
              "         0.05652605, -0.88980136, -0.16238359,  0.13891132, -0.50817008,\n",
              "        -0.73971494, -0.65048727,  0.33702662, -1.02406324, -0.0514341 ,\n",
              "         0.96125927,  1.48952972,  0.63107063, -0.99644506,  0.96805652,\n",
              "        -1.08167052, -0.6652636 , -0.18742834, -1.6056659 ],\n",
              "       [-0.88146011, -0.07224837, -0.94127402, -0.86667599, -0.34825472,\n",
              "        -0.73787546, -0.56917153, -0.59090997, -0.57429393, -0.85202183,\n",
              "        -0.71290316, -0.07826098, -0.63644461, -0.77814842,  1.49602917,\n",
              "        -0.6360389 , -0.29689594,  0.26516593, -0.0533794 , -0.83859939,\n",
              "        -0.9400904 , -0.39078917, -0.92277893,  1.11628142, -0.99974243,\n",
              "        -0.13955619, -0.40404357, -0.63551642,  0.61198951],\n",
              "       [ 0.54231393, -1.54685605,  0.74407741,  0.44590672,  1.31417256,\n",
              "         1.68268404,  1.71436148,  1.64547085,  1.68480706,  1.49934618,\n",
              "         1.60747711,  1.65312407,  1.67407221,  1.57876045,  0.21871591,\n",
              "         1.71304203,  1.7065646 ,  1.0470102 ,  1.62683983,  1.64876626,\n",
              "         1.03631255, -1.26525072,  1.30940089, -0.99635629,  1.03144121,\n",
              "        -0.40546135,  1.72260649,  1.68079709, -0.02928417],\n",
              "       [-1.02863675,  0.42793263, -1.02854604, -1.00647948,  0.43496551,\n",
              "        -0.17425784, -0.77418675, -0.96728144, -0.22739078,  0.31528438,\n",
              "        -0.9511    , -0.68506174, -0.87524401, -0.93952334, -1.206575  ,\n",
              "        -0.33728819, -0.75918138, -1.64920275, -0.5493972 , -0.75873278,\n",
              "        -1.05748142,  0.16651017, -1.01769259,  0.87651993, -0.99975531,\n",
              "         1.62668806, -0.65329932, -0.85785233,  1.02296056]])"
            ]
          },
          "metadata": {},
          "execution_count": 23
        }
      ],
      "source": [
        "#Scale the data (Feature Scaling)\n",
        "\n",
        "from sklearn.preprocessing import StandardScaler\n",
        "\n",
        "#Standardscaler -> StandardScaler removes the mean and scales each feature/variable to unit variance.\n",
        "sc = StandardScaler()\n",
        "X_train = sc.fit_transform(X_train)\n",
        "X_test = sc.fit_transform(X_test)\n",
        "\n",
        "X_train\n"
      ]
    },
    {
      "cell_type": "code",
      "execution_count": null,
      "metadata": {
        "id": "vSCZRv5DzSKj"
      },
      "outputs": [],
      "source": [
        "#Create a function for the models\n",
        "#Random Forest Classification\n",
        "#Support Vector Machines\n",
        "#Kernel SVM \n",
        "#Logistic Regression \n",
        "#Decision Tree Algorithm \n",
        "\n",
        "def models(X_train, Y_train):\n",
        "\n",
        "  \n",
        "  \n",
        "  from sklearn.ensemble import RandomForestClassifier\n",
        "  forest = RandomForestClassifier(n_estimators = 10, criterion = 'entropy', random_state = 0)\n",
        "  forest.fit(X_train, Y_train)\n",
        "\n",
        "\n",
        " \n",
        "  from sklearn.svm import SVC\n",
        "  classifier = SVC(kernel = 'rbf', random_state = 0)\n",
        "  classifier.fit(X_train, Y_train)\n",
        "\n",
        "  \n",
        "  from sklearn.svm import SVC\n",
        "  classifier = SVC(kernel = 'rbf', random_state = 0)\n",
        "  classifier.fit(X_train, Y_train)\n",
        "\n",
        " \n",
        "  from sklearn.linear_model import LogisticRegression\n",
        "  log = LogisticRegression(random_state=0)\n",
        "  log.fit(X_train, Y_train)\n",
        "\n",
        " \n",
        "  from sklearn.tree import DecisionTreeClassifier\n",
        "  tree = DecisionTreeClassifier(criterion = 'entropy', random_state=0)\n",
        "  tree.fit(X_train, Y_train)\n",
        "\n",
        "\n",
        "  #Print the models accuracy on the training data\n",
        "  print('[0]Random Forest Classifier Training Accuracy:', forest.score(X_train, Y_train))\n",
        "  print('[1]Support Vector Machines Training Accuracy:', classifier.score(X_train, Y_train))\n",
        "  print('[2]Kernel Support Vector Machines Training Accuracy:', classifier.score(X_train, Y_train))\n",
        "  print('[3]Logistic Regression Training Accuracy:', log.score(X_train, Y_train))\n",
        "  print('[4]Decision Tree Classifier Training Accuracy:', tree.score(X_train, Y_train))\n",
        " \n",
        "\n",
        "  return forest, classifier,classifier, log, tree"
      ]
    },
    {
      "cell_type": "code",
      "execution_count": null,
      "metadata": {
        "colab": {
          "base_uri": "https://localhost:8080/"
        },
        "id": "bAwSTEl82SSy",
        "outputId": "a7aeea26-cf91-496a-9bd2-a75e243963f4"
      },
      "outputs": [
        {
          "output_type": "stream",
          "name": "stdout",
          "text": [
            "[0]Random Forest Classifier Training Accuracy: 1.0\n",
            "[1]Support Vector Machines Training Accuracy: 1.0\n",
            "[2]Kernel Support Vector Machines Training Accuracy: 1.0\n",
            "[3]Logistic Regression Training Accuracy: 1.0\n",
            "[4]Decision Tree Classifier Training Accuracy: 1.0\n"
          ]
        }
      ],
      "source": [
        "#Getting all of the models\n",
        "model = models(X_train, Y_train)"
      ]
    },
    {
      "cell_type": "code",
      "execution_count": null,
      "metadata": {
        "colab": {
          "base_uri": "https://localhost:8080/"
        },
        "id": "CfMeTzN_3L3q",
        "outputId": "da511a04-7ad5-45d6-9d6f-86c83714cc4d"
      },
      "outputs": [
        {
          "output_type": "stream",
          "name": "stdout",
          "text": [
            "Model 0\n",
            "[[1 0]\n",
            " [0 1]]\n",
            "Testing Accuracy = 1.0\n",
            "\n",
            "Model 1\n",
            "[[1 0]\n",
            " [0 1]]\n",
            "Testing Accuracy = 1.0\n",
            "\n",
            "Model 2\n",
            "[[1 0]\n",
            " [0 1]]\n",
            "Testing Accuracy = 1.0\n",
            "\n",
            "Model 3\n",
            "[[1 0]\n",
            " [0 1]]\n",
            "Testing Accuracy = 1.0\n",
            "\n",
            "Model 4\n",
            "[[1 0]\n",
            " [0 1]]\n",
            "Testing Accuracy = 1.0\n",
            "\n"
          ]
        }
      ],
      "source": [
        "#test model accuracy on test data on confusion matrix\n",
        "from sklearn.metrics import confusion_matrix\n",
        "\n",
        "for i in range ( len(model)):\n",
        "  print('Model', i)\n",
        "  cm = confusion_matrix(Y_test, model[i].predict(X_test))\n",
        "\n",
        "  TP = cm[0][0]\n",
        "  TN = cm[1][1]\n",
        "  FN = cm[1][0]\n",
        "  FP = cm[0][1]\n",
        "\n",
        "  print(cm)\n",
        "  print('Testing Accuracy =', (TP+TN)/(TP+TN+FN+FP))\n",
        "  print()"
      ]
    },
    {
      "cell_type": "code",
      "execution_count": null,
      "metadata": {
        "colab": {
          "base_uri": "https://localhost:8080/"
        },
        "id": "9U50tHtL4QTX",
        "outputId": "526ac968-3ac5-490b-8535-9252ed65179b"
      },
      "outputs": [
        {
          "output_type": "stream",
          "name": "stdout",
          "text": [
            "Model 0\n",
            "              precision    recall  f1-score   support\n",
            "\n",
            "           0       1.00      1.00      1.00         1\n",
            "           1       1.00      1.00      1.00         1\n",
            "\n",
            "    accuracy                           1.00         2\n",
            "   macro avg       1.00      1.00      1.00         2\n",
            "weighted avg       1.00      1.00      1.00         2\n",
            "\n",
            "1.0\n",
            "\n",
            "Model 1\n",
            "              precision    recall  f1-score   support\n",
            "\n",
            "           0       1.00      1.00      1.00         1\n",
            "           1       1.00      1.00      1.00         1\n",
            "\n",
            "    accuracy                           1.00         2\n",
            "   macro avg       1.00      1.00      1.00         2\n",
            "weighted avg       1.00      1.00      1.00         2\n",
            "\n",
            "1.0\n",
            "\n",
            "Model 2\n",
            "              precision    recall  f1-score   support\n",
            "\n",
            "           0       1.00      1.00      1.00         1\n",
            "           1       1.00      1.00      1.00         1\n",
            "\n",
            "    accuracy                           1.00         2\n",
            "   macro avg       1.00      1.00      1.00         2\n",
            "weighted avg       1.00      1.00      1.00         2\n",
            "\n",
            "1.0\n",
            "\n",
            "Model 3\n",
            "              precision    recall  f1-score   support\n",
            "\n",
            "           0       1.00      1.00      1.00         1\n",
            "           1       1.00      1.00      1.00         1\n",
            "\n",
            "    accuracy                           1.00         2\n",
            "   macro avg       1.00      1.00      1.00         2\n",
            "weighted avg       1.00      1.00      1.00         2\n",
            "\n",
            "1.0\n",
            "\n",
            "Model 4\n",
            "              precision    recall  f1-score   support\n",
            "\n",
            "           0       1.00      1.00      1.00         1\n",
            "           1       1.00      1.00      1.00         1\n",
            "\n",
            "    accuracy                           1.00         2\n",
            "   macro avg       1.00      1.00      1.00         2\n",
            "weighted avg       1.00      1.00      1.00         2\n",
            "\n",
            "1.0\n",
            "\n"
          ]
        }
      ],
      "source": [
        "#Show another way to get metrics of the models\n",
        "from sklearn.metrics import classification_report\n",
        "from sklearn.metrics import accuracy_score\n",
        "for i in range ( len(model)):\n",
        "  print('Model',i)\n",
        "  print( classification_report(Y_test, model[i].predict(X_test)))\n",
        "  print( accuracy_score(Y_test, model[i].predict(X_test)))\n",
        "  print()"
      ]
    },
    {
      "cell_type": "code",
      "execution_count": null,
      "metadata": {
        "colab": {
          "base_uri": "https://localhost:8080/"
        },
        "id": "KJct1FUz6Hjl",
        "outputId": "c121eaf8-2063-4a4b-9001-602cd8dd7ac5"
      },
      "outputs": [
        {
          "output_type": "stream",
          "name": "stdout",
          "text": [
            "[0 1]\n",
            "\n",
            "[0 1]\n"
          ]
        }
      ],
      "source": [
        "#Print the prediction of Random Forest Classifier Model\n",
        "pred  = model[0].predict(X_test)\n",
        "print(pred)\n",
        "print()\n",
        "print(Y_test)"
      ]
    }
  ],
  "metadata": {
    "colab": {
      "provenance": []
    },
    "kernelspec": {
      "display_name": "Python 3",
      "name": "python3"
    },
    "language_info": {
      "name": "python"
    }
  },
  "nbformat": 4,
  "nbformat_minor": 0
}